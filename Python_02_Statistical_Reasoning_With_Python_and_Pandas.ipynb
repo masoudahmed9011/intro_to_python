{
  "nbformat": 4,
  "nbformat_minor": 0,
  "metadata": {
    "colab": {
      "provenance": [],
      "collapsed_sections": [
        "odvXXrO7gPGu",
        "xkkUmt0wlcR2",
        "F2i-tqhpCeUq",
        "n8LwsnF_xLbQ",
        "wVnsKPHBsZfg"
      ]
    },
    "kernelspec": {
      "name": "python3",
      "display_name": "Python 3"
    },
    "language_info": {
      "name": "python"
    },
    "gpuClass": "standard"
  },
  "cells": [
    {
      "cell_type": "markdown",
      "source": [
        "# Python Programming With Google Colab\n",
        "Brendan Shea, PhD (Brendan.Shea@rctc.edu)\n",
        "\n",
        "**Note: If you are acessing from a Github, please click on \"Open in Colab.\" Then click on \"Connect\" in the upper right. This wil allow you to \"run\" the Python code.**\n",
        "\n",
        "In this lesson, we'll introduce the basic syntax of a modern programming language, allowing us to explore the nature of the \"formal\" languages we use to communicate with computers. The language is the computer language *Python*. As compared to \"traditional\" languages taught in logic classes (predicate logic) or computer science classes (Java), this has a few advantages:\n",
        "\n",
        "1. The tools used to write and run Python code are freely available. When using Google Colab (as we are), you don't need to install anything on your computer.\n",
        "2. Its syntax tends to be much \"friendlier\" to people who dislike mathematics or don't plan on becoming professional programmers.\n",
        "3. Knowing even a *little* Python has practical benefits. It's widely used in many different industries and occupations.\n",
        "\n",
        "Do not worry if you've never programmed a computer before! I promise you we're going to move slowly. The goal here is to understand the \"big ideas\", and not to suddenly become expert computer programmers.\n",
        "\n",
        "Note: This set of interactive lecture notes has been adapted (with significant modifications) from Allen B. Downey's (excellent!) [*Think Python*](https://greenteapress.com/thinkpython2/html/index.html). You can assume that any mistakes are mine (Brendan's) rather than his :).\n",
        "\n",
        "\n"
      ],
      "metadata": {
        "id": "odvXXrO7gPGu"
      }
    },
    {
      "cell_type": "markdown",
      "source": [
        "# Part 1: What is a Program?\n",
        "A **program** is a sequence of instructions that specifies how to perform a computation. The computation might be something mathematical, such as solving a system of equations or finding the roots of a polynomial, but it can also be a symbolic computation, such as searching and replacing text in a document or something graphical, like processing an image or playing a video.\n",
        "\n",
        "The details look different in different languages, but a few basic instructions appear in just about every language:\n",
        "\n",
        ">**input:**\n",
        "Get data from the keyboard, a file, the network, or some other device.\n",
        "\n",
        ">**output:**\n",
        "Display data on the screen, save it in a file, send it over the network, etc.\n",
        "\n",
        ">**math:**\n",
        "Perform basic mathematical operations like addition and multiplication.\n",
        "\n",
        ">**conditional execution:**\n",
        "Check for certain conditions and run the appropriate code.\n",
        "\n",
        ">**repetition:**\n",
        "Perform some action repeatedly, usually with some variation.\n",
        "\n",
        "Believe it or not, that’s pretty much all there is to it. Every program you’ve ever used, no matter how complicated, is made up of instructions that look pretty much like these. So you can think of programming as the process of breaking a large, complex task into smaller and smaller subtasks until the subtasks are simple enough to be performed with one of these basic instructions.\n"
      ],
      "metadata": {
        "id": "ITVrbe7_iy9S"
      }
    },
    {
      "cell_type": "markdown",
      "source": [
        "## Running Python Using \"Google Colab\"\n",
        "Python is a general purpose, **interpreted** programming language (roughly, this means you can run code \"as you go,\" as opposed to having to \"compile\" into machine code). **Google Colab** provides a free environment for writing and executing Python code. \n",
        "\n",
        "If you are running this \"Jupyter\" notebook on Colab, you should see buttons in the top left that say \"+ Code\" and \"+ Text.\"  The first one adds a code cell, and the second adds a text cell.\n",
        "\n",
        "If you want to try them out, select this cell by clicking on it, then press the \"+ Text\" button.  A new cell should appear below this one.\n",
        "\n",
        "Add some text to the cell.  You can use the buttons to format it, or you can mark up the text using [Markdown](https://www.markdownguide.org/basic-syntax/).  When you finish, hold down Shift and press Enter, which will format the text you just typed and then move to the next cell.\n",
        "\n",
        "If you select a Code cell, you should see a button on the left with a triangle inside a circle, which is the icon for \"Play\".  If you press this button, Jupyter runs the code in the cell and displays the results.\n",
        "\n",
        "When you run code in a notebook for the first time, you might get a message warning you about the things a notebook can do.  If you are running a notebook from a source you trust, which I hope includes me, you can press \"Run Anyway.\"\n",
        "\n",
        "Instead of clicking the \"Play\" button, you can also run the code in a cell by holding down Shift and pressing Enter.\n",
        "\n",
        "**Exercise 1: Once you get Colab set up, create a text cell (immediately below this one), and type your name in it.**"
      ],
      "metadata": {
        "id": "xkkUmt0wlcR2"
      }
    },
    {
      "cell_type": "markdown",
      "source": [
        "## Saving and Submitting Your Work\n",
        "\n",
        "If you are running on Colab and you want to save your work (with the new cell you've just created), now is an excellent time to press the \"Copy to Drive\" button (near the upper left), which saves a copy of this notebook in your Google Drive.\n",
        "\n",
        "If you want to change the file's name, you can click on the name in the upper left.\n",
        "If you don't use Google Drive, look under the File menu for other options.\n",
        "\n",
        "Once you make a copy, any additional changes you make will be saved automatically, so now you can continue without worrying about losing your work.\n",
        "\n",
        "Once you've completed all the exercises and questions, you can **submit** work to me by going to the File menu, clicking on download, and choosing .ipynb. You can submit the file according to class directions (for example, upload it to a D2L Assignment folder)."
      ],
      "metadata": {
        "id": "F2i-tqhpCeUq"
      }
    },
    {
      "cell_type": "code",
      "source": [
        "print(\"Masoud Ahmed\")"
      ],
      "metadata": {
        "id": "N3S76HqhfSD8",
        "outputId": "acd09d93-0589-4513-d169-a3bd26f8f778",
        "colab": {
          "base_uri": "https://localhost:8080/"
        }
      },
      "execution_count": 1,
      "outputs": [
        {
          "output_type": "stream",
          "name": "stdout",
          "text": [
            "Masoud Ahmed\n"
          ]
        }
      ]
    },
    {
      "cell_type": "markdown",
      "source": [
        "## The First Program: \"Hello World\"\n",
        "Traditionally, the first program you write in a new language is called “Hello, World!” because all it does is display the words “Hello, World!”. In Python, it looks like this:"
      ],
      "metadata": {
        "id": "jOuXs2tUqaBq"
      }
    },
    {
      "cell_type": "code",
      "source": [
        "print(\"Hello World!\")"
      ],
      "metadata": {
        "colab": {
          "base_uri": "https://localhost:8080/"
        },
        "id": "SF_AOlnPqjX9",
        "outputId": "8ffbd146-8e4d-474d-d537-8516c851b772"
      },
      "execution_count": null,
      "outputs": [
        {
          "output_type": "stream",
          "name": "stdout",
          "text": [
            "Hello World!\n"
          ]
        }
      ]
    },
    {
      "cell_type": "markdown",
      "source": [
        "This is an example of a print statement, although it doesn’t actually print anything on paper. It displays a result on the screen (in Google Colab, it will display the result directly below your code). In this case, the result is the words\n",
        "\n",
        "> Hello, World!\n",
        "\n",
        "The quotation marks in the program mark the beginning and end of the text to be displayed; they don’t appear in the result.\n",
        "\n",
        "The parentheses indicate that print is a **function**. We'll talk more about functions later.\n",
        "\n",
        "**Exercise 2: Edit the following code cell so that it prints \"Hello, Python!\" instead of \"Hello, World!\". Now, trying \"running\" the cell.**"
      ],
      "metadata": {
        "id": "Iu0ddvaKqnKl"
      }
    },
    {
      "cell_type": "code",
      "source": [
        "print(\"Hello, Python\")"
      ],
      "metadata": {
        "colab": {
          "base_uri": "https://localhost:8080/"
        },
        "id": "HUOljVHXrC2m",
        "outputId": "b5c6453f-4f75-424c-fd39-04a87e1cbaf6"
      },
      "execution_count": 2,
      "outputs": [
        {
          "output_type": "stream",
          "name": "stdout",
          "text": [
            "Hello, Python\n"
          ]
        }
      ]
    },
    {
      "cell_type": "markdown",
      "source": [
        "## Arithmetic operators\n",
        "After “Hello, World”, the next step is arithmetic. Python provides operators, which are special symbols that represent computations like addition and multiplication.\n",
        "\n",
        "The operators +, -, and * perform addition, subtraction, and multiplication, as in the following examples:"
      ],
      "metadata": {
        "id": "sserj_FarBxC"
      }
    },
    {
      "cell_type": "code",
      "source": [
        "40 + 2"
      ],
      "metadata": {
        "colab": {
          "base_uri": "https://localhost:8080/"
        },
        "id": "8OsAwWl1rKkR",
        "outputId": "2cb9df6c-bcf6-40d4-85ff-4cc6e2c499e8"
      },
      "execution_count": null,
      "outputs": [
        {
          "output_type": "execute_result",
          "data": {
            "text/plain": [
              "42"
            ]
          },
          "metadata": {},
          "execution_count": 2
        }
      ]
    },
    {
      "cell_type": "code",
      "source": [
        "43 - 1"
      ],
      "metadata": {
        "colab": {
          "base_uri": "https://localhost:8080/"
        },
        "id": "945mcmbXrUuE",
        "outputId": "82196f4b-22fd-474b-8d92-05bd46af81a0"
      },
      "execution_count": null,
      "outputs": [
        {
          "output_type": "execute_result",
          "data": {
            "text/plain": [
              "42"
            ]
          },
          "metadata": {},
          "execution_count": 3
        }
      ]
    },
    {
      "cell_type": "code",
      "source": [
        "6 * 7"
      ],
      "metadata": {
        "colab": {
          "base_uri": "https://localhost:8080/"
        },
        "id": "BhegU2r4rX9q",
        "outputId": "ce250df9-f3d2-4084-821c-782f2c414047"
      },
      "execution_count": null,
      "outputs": [
        {
          "output_type": "execute_result",
          "data": {
            "text/plain": [
              "42"
            ]
          },
          "metadata": {},
          "execution_count": 4
        }
      ]
    },
    {
      "cell_type": "markdown",
      "source": [
        "The operator / performs division:"
      ],
      "metadata": {
        "id": "2DA_7stArdo6"
      }
    },
    {
      "cell_type": "code",
      "source": [
        "84 / 2"
      ],
      "metadata": {
        "colab": {
          "base_uri": "https://localhost:8080/"
        },
        "id": "q0PCpgFxrfoj",
        "outputId": "97922d87-9e72-4ca4-d7a7-72d7e1f8f0ab"
      },
      "execution_count": null,
      "outputs": [
        {
          "output_type": "execute_result",
          "data": {
            "text/plain": [
              "42.0"
            ]
          },
          "metadata": {},
          "execution_count": 5
        }
      ]
    },
    {
      "cell_type": "markdown",
      "source": [
        "You might wonder why the result is 42.0 instead of 42. I’ll explain in the next section.\n",
        "\n",
        "**Exercise 3: Use the code cell below to calculate the answer to the following question:\n",
        "\"Sting spends 1.3 hours each day playing video games. How many hours does Sting play per year?\"**"
      ],
      "metadata": {
        "id": "leH7K6hnrlLW"
      }
    },
    {
      "cell_type": "code",
      "source": [
        "365 * 1.3"
      ],
      "metadata": {
        "id": "z_NLPCv-Ie5K",
        "outputId": "7a80c7a6-c247-4b62-e059-ab59f71df417",
        "colab": {
          "base_uri": "https://localhost:8080/"
        }
      },
      "execution_count": 3,
      "outputs": [
        {
          "output_type": "execute_result",
          "data": {
            "text/plain": [
              "474.5"
            ]
          },
          "metadata": {},
          "execution_count": 3
        }
      ]
    },
    {
      "cell_type": "markdown",
      "source": [
        "## Values and Types\n",
        "A **value** is one of the basic things a program works with, like a letter or a number. Some values we have seen so far are 2, 42.0, and 'Hello, World!'.\n",
        "\n",
        "These values belong to different types: 2 is an **integer**, 42.0 is a **floating-point number**, and 'Hello, World!' is a **string**, so-called because the letters it contains are strung together. \n",
        "\n",
        "If you are not sure what type a value has, the interpreter can tell you:"
      ],
      "metadata": {
        "id": "lCpo2-zeroyp"
      }
    },
    {
      "cell_type": "code",
      "source": [
        "type(2)"
      ],
      "metadata": {
        "colab": {
          "base_uri": "https://localhost:8080/"
        },
        "id": "lbWEd1lor5I-",
        "outputId": "8adf1201-0a0c-41a3-e4e6-69d3851d988b"
      },
      "execution_count": null,
      "outputs": [
        {
          "output_type": "execute_result",
          "data": {
            "text/plain": [
              "int"
            ]
          },
          "metadata": {},
          "execution_count": 6
        }
      ]
    },
    {
      "cell_type": "code",
      "source": [
        "type(42.0)"
      ],
      "metadata": {
        "colab": {
          "base_uri": "https://localhost:8080/"
        },
        "id": "FGujDS78r71Y",
        "outputId": "0f79f67c-0e4d-40d1-c455-cf90ad882478"
      },
      "execution_count": null,
      "outputs": [
        {
          "output_type": "execute_result",
          "data": {
            "text/plain": [
              "float"
            ]
          },
          "metadata": {},
          "execution_count": 7
        }
      ]
    },
    {
      "cell_type": "code",
      "source": [
        "type(\"Hello, World!\")"
      ],
      "metadata": {
        "colab": {
          "base_uri": "https://localhost:8080/"
        },
        "id": "SYjtNWnfr9tv",
        "outputId": "58147596-2110-4ae1-9ab4-9582cd2094b7"
      },
      "execution_count": null,
      "outputs": [
        {
          "output_type": "execute_result",
          "data": {
            "text/plain": [
              "str"
            ]
          },
          "metadata": {},
          "execution_count": 8
        }
      ]
    },
    {
      "cell_type": "markdown",
      "source": [
        "In these results, the word “class” is used in the sense of a category; a type is a category of values.\n",
        "\n",
        "Not surprisingly, integers belong to the type int, strings belong to str and floating-point numbers belong to float.\n",
        "\n",
        "What about values like '2' and '42.0'? They look like numbers, but they are in quotation marks like strings."
      ],
      "metadata": {
        "id": "finrBmbgsDpM"
      }
    },
    {
      "cell_type": "code",
      "source": [
        "type('2')"
      ],
      "metadata": {
        "colab": {
          "base_uri": "https://localhost:8080/"
        },
        "id": "2XIC4inSsFqy",
        "outputId": "bb0c906e-2955-4bd9-e63d-80f8b34de14b"
      },
      "execution_count": null,
      "outputs": [
        {
          "output_type": "execute_result",
          "data": {
            "text/plain": [
              "str"
            ]
          },
          "metadata": {},
          "execution_count": 9
        }
      ]
    },
    {
      "cell_type": "code",
      "source": [
        "type(\"42.0\")"
      ],
      "metadata": {
        "colab": {
          "base_uri": "https://localhost:8080/"
        },
        "id": "AMaQccvmsI6g",
        "outputId": "646ee899-2efd-4d15-ea5a-7146ece9ea19"
      },
      "execution_count": null,
      "outputs": [
        {
          "output_type": "execute_result",
          "data": {
            "text/plain": [
              "str"
            ]
          },
          "metadata": {},
          "execution_count": 10
        }
      ]
    },
    {
      "cell_type": "markdown",
      "source": [
        "**Exercise 4: Give examples (1) an integer, (2) a floating point number, and (3) a string?**"
      ],
      "metadata": {
        "id": "KK7vGpI-IlEU"
      }
    },
    {
      "cell_type": "code",
      "source": [
        "type(1)\n"
      ],
      "metadata": {
        "id": "fCu7iloII5sb",
        "outputId": "5472e919-4e2f-4cf4-9e3a-537169abdc24",
        "colab": {
          "base_uri": "https://localhost:8080/"
        }
      },
      "execution_count": 4,
      "outputs": [
        {
          "output_type": "execute_result",
          "data": {
            "text/plain": [
              "int"
            ]
          },
          "metadata": {},
          "execution_count": 4
        }
      ]
    },
    {
      "cell_type": "code",
      "source": [
        "type(2.0)\n"
      ],
      "metadata": {
        "id": "xbBINCV5Wdlo",
        "outputId": "799ff474-49db-4d12-b782-cf1671509d24",
        "colab": {
          "base_uri": "https://localhost:8080/"
        }
      },
      "execution_count": 5,
      "outputs": [
        {
          "output_type": "execute_result",
          "data": {
            "text/plain": [
              "float"
            ]
          },
          "metadata": {},
          "execution_count": 5
        }
      ]
    },
    {
      "cell_type": "code",
      "source": [
        "type(\"3\")\n"
      ],
      "metadata": {
        "id": "R2HkYXXcWiiX",
        "outputId": "666f6308-aa7e-47aa-e041-24b2ac4d6d9e",
        "colab": {
          "base_uri": "https://localhost:8080/"
        }
      },
      "execution_count": 6,
      "outputs": [
        {
          "output_type": "execute_result",
          "data": {
            "text/plain": [
              "str"
            ]
          },
          "metadata": {},
          "execution_count": 6
        }
      ]
    },
    {
      "cell_type": "markdown",
      "source": [
        "## Formal and natural languages\n",
        "\n",
        "**Natural languages** are the languages people speak, such as English, Spanish, and French. They were not designed by people (although people try to impose some order on them); they evolved naturally.\n",
        "\n",
        "**Formal languages** are languages that are designed by people for specific applications. For example, the notation that mathematicians use is a formal language that is particularly good at denoting relationships among numbers and symbols. Chemists use a formal language to represent the chemical structure of molecules. And most importantly:\n",
        "\n",
        "**Programming languages are formal languages that are used to communicate with computers.**\n",
        "\n",
        "There are several types of programmming languages. **Procedural languages** such as Python (as well as Java, Javascript, C, etc.) work by describing the step-by-step \"process\" you would like the comptuer to carry out. Things such as video games and computer applications are written in such languages. By constrast, **declarative languages** such as Structured Query Language (SQL, used to interact with databases) or Hypertext Markup Langauge (HTML, used to write webpages) work by \"telling\" (or \"declaring\") what kind of output you'd like, and leaving it up to computer how to prodce this. \n",
        "\n",
        "Formal languages tend to have strict rules about syntax. For example, $3 + 3 = 6$ is a syntactically correct mathematical statement, but $3 += 3 \\$ 6$ is not. $H_{2}O$ is a syntactically correct chemical formula, but $_2Zz$ is not.\n",
        "\n",
        "Syntax rules come in two flavors, pertaining to tokens and structure. **Tokens** are the basic elements of the language, such as words, numbers, and chemical elements. One of the problems with $3  += 3 \\$ 6$ is that \\$ is not a legal token in mathematics (at least as far as I know). Similarly, $_2Zz$ is not legal because there is no element with the abbreviation Zz.\n",
        "\n",
        "The second type of syntax rule pertains to the structure of a statement; that is, the way the tokens are arranged. The statement $3 + = 3$ is illegal because even though + and = are legal tokens, you can’t have one right after the other. Similarly, in a chemical formula the subscript comes after the element name, not before.\n",
        "\n",
        "When you read a sentence in English or a statement in a formal language, you have to figure out what the structure of the sentence is (although in a natural language you do this subconsciously). This process is called parsing.\n",
        "\n",
        "For example, when you hear the sentence, “The penny dropped,” you understand that “the penny” is the subject and “dropped” is the predicate. Once you have parsed a sentence, you can figure out what it means, or the semantics of the sentence. Assuming that you know what a penny is and what it means to drop, you will understand the general implication of this sentence.\n",
        "\n",
        "Although formal and natural languages have many features in common—tokens, structure, syntax, and semantics—there are some differences:\n",
        "\n",
        "> **ambiguity:**\n",
        "Natural languages are full of ambiguity, which people deal with by using contextual clues and other information. Formal languages are designed to be nearly or completely unambiguous, which means that any statement has exactly one meaning, regardless of context.\n",
        "\n",
        ">**redundancy:**\n",
        "In order to make up for ambiguity and reduce misunderstandings, natural languages employ lots of redundancy. As a result, they are often verbose. Formal languages are less redundant and more concise.\n",
        "\n",
        "> **literalness:**\n",
        "Natural languages are full of idiom and metaphor. If I say, “The penny dropped,” there is probably no penny and nothing dropping (this idiom means that someone realized something after a period of confusion). Formal languages mean exactly what they say.\n",
        "\n",
        "People who grow up speaking a natural language—everyone—often have a hard time adjusting to formal languages. In some ways, the difference between formal and natural language is like the difference between poetry and prose, but more so:\n",
        "\n",
        "> **Poetry:**\n",
        "Words are used for their sounds as well as for their meaning, and the whole poem together creates an effect or emotional response. Ambiguity is not only common but often deliberate.\n",
        "\n",
        "> **Prose:**\n",
        "The literal meaning of words is more important, and the structure contributes more meaning. Prose is more amenable to analysis than poetry but still often ambiguous.\n",
        "\n",
        "> **Programs:**\n",
        "The meaning of a computer program is unambiguous and literal, and can be understood entirely by analysis of the tokens and structure.\n",
        "\n",
        "Formal languages are more dense than natural languages, so it takes longer to read them. Also, the structure is important, so it is not always best to read from top to bottom, left to right. Instead, learn to parse the program in your head, identifying the tokens and interpreting the structure. Finally, the details matter. Small errors in spelling and punctuation, which you can get away with in natural languages, can make a big difference in a formal language.\n",
        "\n",
        "**Exercise 5: In a few sentences, tell me about any experience you've had with \"formal\" languages. If you think hard, I'll bet you've used at least one or two.**\n",
        "\n",
        "Your answer: One esxperience I have had with formal language is in Chemstry class where There is formulas. the syntax have to be correct other wise the formula would be incorrect.\n"
      ],
      "metadata": {
        "id": "n8LwsnF_xLbQ"
      }
    },
    {
      "cell_type": "markdown",
      "source": [
        "## Exercise 6: Experimenting With Code\n",
        "\n",
        "Whenever you are experimenting with a new feature, you should try to make mistakes. For example, in the “Hello, world!” program, what happens if you leave out one of the quotation marks? What if you leave out both? What if you spell print wrong?\n",
        "\n",
        "This kind of experiment helps you remember what you read; it also helps when you are programming, because you get to know what the error messages mean. It is better to make mistakes now and on purpose than later and accidentally. Try out the following:\n",
        "\n",
        "1. In a print statement, what happens if you leave out one of the parentheses, or both?\n",
        "\n",
        "2. If you are trying to print a string, what happens if you leave out one of the quotation marks, or both?\n",
        "\n",
        "3. You can use a minus sign to make a negative number like -2. What happens if you put a plus sign before a number? What about 2++2?\n",
        "\n",
        "4. In math notation, leading zeros are ok, as in 09. What happens if you try this in Python? What about 011?\n",
        "\n",
        "5. What happens if you have two values with no operator between them?\n",
        "\n",
        "You can run these experiments using the code cells below."
      ],
      "metadata": {
        "id": "x-J2StuKtbgM"
      }
    },
    {
      "cell_type": "code",
      "source": [
        "print \"hello world\""
      ],
      "metadata": {
        "id": "S-IFB-NPuJip",
        "outputId": "c4602e97-14e9-42f2-d908-c233ae5e713f",
        "colab": {
          "base_uri": "https://localhost:8080/",
          "height": 130
        }
      },
      "execution_count": 7,
      "outputs": [
        {
          "output_type": "error",
          "ename": "SyntaxError",
          "evalue": "ignored",
          "traceback": [
            "\u001b[0;36m  File \u001b[0;32m\"<ipython-input-7-6d29d8fb337c>\"\u001b[0;36m, line \u001b[0;32m1\u001b[0m\n\u001b[0;31m    print \"hello world\"\u001b[0m\n\u001b[0m                      ^\u001b[0m\n\u001b[0;31mSyntaxError\u001b[0m\u001b[0;31m:\u001b[0m Missing parentheses in call to 'print'. Did you mean print(\"hello world\")?\n"
          ]
        }
      ]
    },
    {
      "cell_type": "code",
      "source": [
        "print(Hello world)"
      ],
      "metadata": {
        "id": "FFb74wZETkZT",
        "outputId": "557ab9ab-7142-453b-d649-1d60d5061e35",
        "colab": {
          "base_uri": "https://localhost:8080/",
          "height": 130
        }
      },
      "execution_count": 8,
      "outputs": [
        {
          "output_type": "error",
          "ename": "SyntaxError",
          "evalue": "ignored",
          "traceback": [
            "\u001b[0;36m  File \u001b[0;32m\"<ipython-input-8-50b4ae29d403>\"\u001b[0;36m, line \u001b[0;32m1\u001b[0m\n\u001b[0;31m    print(Hello world)\u001b[0m\n\u001b[0m                    ^\u001b[0m\n\u001b[0;31mSyntaxError\u001b[0m\u001b[0;31m:\u001b[0m invalid syntax\n"
          ]
        }
      ]
    },
    {
      "cell_type": "code",
      "source": [
        "2++2"
      ],
      "metadata": {
        "id": "yAkdCkaoTkfp",
        "outputId": "9bc6e16d-022a-4645-a2ef-f52ad8ca9f93",
        "colab": {
          "base_uri": "https://localhost:8080/"
        }
      },
      "execution_count": 9,
      "outputs": [
        {
          "output_type": "execute_result",
          "data": {
            "text/plain": [
              "4"
            ]
          },
          "metadata": {},
          "execution_count": 9
        }
      ]
    },
    {
      "cell_type": "code",
      "source": [
        "011"
      ],
      "metadata": {
        "id": "U_RToXurTkl1",
        "outputId": "8b24075e-34ab-49cb-cacd-194b6b44ebcd",
        "colab": {
          "base_uri": "https://localhost:8080/",
          "height": 130
        }
      },
      "execution_count": 18,
      "outputs": [
        {
          "output_type": "error",
          "ename": "SyntaxError",
          "evalue": "ignored",
          "traceback": [
            "\u001b[0;36m  File \u001b[0;32m\"<ipython-input-18-2e9780ecac58>\"\u001b[0;36m, line \u001b[0;32m1\u001b[0m\n\u001b[0;31m    011\u001b[0m\n\u001b[0m      ^\u001b[0m\n\u001b[0;31mSyntaxError\u001b[0m\u001b[0;31m:\u001b[0m invalid token\n"
          ]
        }
      ]
    },
    {
      "cell_type": "code",
      "source": [
        "2 2"
      ],
      "metadata": {
        "id": "ab_cFSAtt3he",
        "outputId": "360f693c-8ecb-4991-bdc9-6ac7f870c94d",
        "colab": {
          "base_uri": "https://localhost:8080/",
          "height": 130
        }
      },
      "execution_count": 19,
      "outputs": [
        {
          "output_type": "error",
          "ename": "SyntaxError",
          "evalue": "ignored",
          "traceback": [
            "\u001b[0;36m  File \u001b[0;32m\"<ipython-input-19-ed76b62ef94d>\"\u001b[0;36m, line \u001b[0;32m1\u001b[0m\n\u001b[0;31m    2 2\u001b[0m\n\u001b[0m      ^\u001b[0m\n\u001b[0;31mSyntaxError\u001b[0m\u001b[0;31m:\u001b[0m invalid syntax\n"
          ]
        }
      ]
    },
    {
      "cell_type": "markdown",
      "source": [
        "# Part 2: Variables, expressions and statements\n",
        "One of the most powerful features of a programming language is the ability to manipulate variables. A variable is a name that refers to a value.\n",
        "\n"
      ],
      "metadata": {
        "id": "yMZTynqIOYdI"
      }
    },
    {
      "cell_type": "markdown",
      "source": [
        "## Assignment Statements\n",
        "An **assignment statement** creates a new variable and gives it a value:\n"
      ],
      "metadata": {
        "id": "4pAuH477FJEI"
      }
    },
    {
      "cell_type": "code",
      "source": [
        "message = 'And now for something completely different'\n",
        "n = 17\n",
        "pi = 3.1415926535897932"
      ],
      "metadata": {
        "id": "_WdVeDxNPHQO"
      },
      "execution_count": null,
      "outputs": []
    },
    {
      "cell_type": "markdown",
      "source": [
        "This example makes three assignments. The first assigns a string to a new variable named message; the second gives the integer 17 to n; the third assigns the (approximate) value of π to pi.\n"
      ],
      "metadata": {
        "id": "N7z-pz_0POmT"
      }
    },
    {
      "cell_type": "markdown",
      "source": [
        "## Variable Names\n",
        "Programmers generally choose names for their variables that are meaningful—they document what the variable is used for.\n",
        "\n",
        "Variable names can be as long as you like. They can contain both letters and numbers, but they can’t begin with a number. It is legal to use uppercase letters, but it is conventional to use only lower case for variables names.\n",
        "\n",
        "The underscore character, _, can appear in a name. It is often used in names with multiple words, such as your_name or airspeed_of_unladen_swallow.\n",
        "\n",
        "If you give a variable an illegal name, you get a syntax error:"
      ],
      "metadata": {
        "id": "0s-JSOJJGTQw"
      }
    },
    {
      "cell_type": "code",
      "source": [
        "76trombones = 'big parade'"
      ],
      "metadata": {
        "colab": {
          "base_uri": "https://localhost:8080/",
          "height": 135
        },
        "id": "BjTbWtBgGWjv",
        "outputId": "c85a46c5-e2b7-4cf3-c3cd-d95326062ace"
      },
      "execution_count": null,
      "outputs": [
        {
          "output_type": "error",
          "ename": "SyntaxError",
          "evalue": "ignored",
          "traceback": [
            "\u001b[0;36m  File \u001b[0;32m\"<ipython-input-5-ee59a172c534>\"\u001b[0;36m, line \u001b[0;32m1\u001b[0m\n\u001b[0;31m    76trombones = 'big parade'\u001b[0m\n\u001b[0m              ^\u001b[0m\n\u001b[0;31mSyntaxError\u001b[0m\u001b[0;31m:\u001b[0m invalid syntax\n"
          ]
        }
      ]
    },
    {
      "cell_type": "code",
      "execution_count": null,
      "metadata": {
        "colab": {
          "base_uri": "https://localhost:8080/",
          "height": 130
        },
        "id": "2SgNxfIUFKGi",
        "outputId": "1b492d09-5ee9-4d49-d0e9-0321f028a7e7"
      },
      "outputs": [
        {
          "output_type": "error",
          "ename": "SyntaxError",
          "evalue": "ignored",
          "traceback": [
            "\u001b[0;36m  File \u001b[0;32m\"<ipython-input-6-aadf9af64941>\"\u001b[0;36m, line \u001b[0;32m1\u001b[0m\n\u001b[0;31m    moremore! = 1000000\u001b[0m\n\u001b[0m            ^\u001b[0m\n\u001b[0;31mSyntaxError\u001b[0m\u001b[0;31m:\u001b[0m invalid syntax\n"
          ]
        }
      ],
      "source": [
        "moremore! = 1000000"
      ]
    },
    {
      "cell_type": "code",
      "source": [
        "class = 'Advanced Theoretical Zymurgy'"
      ],
      "metadata": {
        "colab": {
          "base_uri": "https://localhost:8080/",
          "height": 130
        },
        "id": "qTACgvmgGame",
        "outputId": "3ff6056b-8fd8-4ef7-872b-ed49634ca2d2"
      },
      "execution_count": null,
      "outputs": [
        {
          "output_type": "error",
          "ename": "SyntaxError",
          "evalue": "ignored",
          "traceback": [
            "\u001b[0;36m  File \u001b[0;32m\"<ipython-input-4-73fc4ce1a15a>\"\u001b[0;36m, line \u001b[0;32m1\u001b[0m\n\u001b[0;31m    class = 'Advanced Theoretical Zymurgy'\u001b[0m\n\u001b[0m          ^\u001b[0m\n\u001b[0;31mSyntaxError\u001b[0m\u001b[0;31m:\u001b[0m invalid syntax\n"
          ]
        }
      ]
    },
    {
      "cell_type": "markdown",
      "source": [
        "76trombones is illegal because it begins with a number. moremore! is illegal because it contains an illegal character, 1. But what’s wrong with *class*?\n",
        "\n",
        "It turns out that *class* is one of Python’s **keywords**. The interpreter uses keywords to recognize the structure of the program, and they cannot be used as variable names.\n",
        "\n",
        "Python 3 has these keywords:\n",
        "\n",
        "\n",
        "|     Table     |     of        |     Python |     Key          |     Words    |\n",
        "|---------------|--------------------|----------------|-----------------|---------------|\n",
        "|     False     |     class          |     finally    |     is          |     return    |\n",
        "|     None      |     continue    |     lambda     |     try         |     while     |\n",
        "|     True      |     def            |     from       |     nonlocal    |     with      |\n",
        "|     and       |     del            |     global     |     not         |     yield     |\n",
        "|     as        |     elif           |     if         |     or          |     raise     |\n",
        "|     assert    |     else           |     import     |     pass        |     in        |\n",
        "|     break     |     except         |       for         |                 |               |\n",
        "\n",
        "You don’t have to memorize this list. In most development environments, keywords are displayed in a different color; if you try to use one as a variable name, you’ll know.\n",
        "\n",
        "**Exercise 7: Use an an assignment statement to create a variable that holds your age in years. Give your variable a descriptive name, using _ for spaces. (For example: brendan_age_yrs).**"
      ],
      "metadata": {
        "id": "szjy6XaMGvd5"
      }
    },
    {
      "cell_type": "code",
      "source": [
        "brendan_age_yrs = 10"
      ],
      "metadata": {
        "id": "JMOO0stPmhOH"
      },
      "execution_count": 20,
      "outputs": []
    },
    {
      "cell_type": "markdown",
      "source": [
        "## Expressions and statements\n",
        "An **expression** is a combination of values, variables, and operators. A value all by itself is considered an expression, and so is a variable, so the following are all legal expressions:"
      ],
      "metadata": {
        "id": "sjxDh0nBP5Hq"
      }
    },
    {
      "cell_type": "code",
      "source": [
        "42"
      ],
      "metadata": {
        "colab": {
          "base_uri": "https://localhost:8080/"
        },
        "id": "icqixdRoQIsA",
        "outputId": "927766fa-d5a0-41f8-a20a-b3fca1f81c40"
      },
      "execution_count": null,
      "outputs": [
        {
          "output_type": "execute_result",
          "data": {
            "text/plain": [
              "42"
            ]
          },
          "metadata": {},
          "execution_count": 6
        }
      ]
    },
    {
      "cell_type": "code",
      "source": [
        "n"
      ],
      "metadata": {
        "colab": {
          "base_uri": "https://localhost:8080/"
        },
        "id": "Ok7rxBYlQK_P",
        "outputId": "76911afe-97fa-4fd7-984b-8cb24e633741"
      },
      "execution_count": null,
      "outputs": [
        {
          "output_type": "execute_result",
          "data": {
            "text/plain": [
              "17"
            ]
          },
          "metadata": {},
          "execution_count": 9
        }
      ]
    },
    {
      "cell_type": "code",
      "source": [
        "n + 25"
      ],
      "metadata": {
        "colab": {
          "base_uri": "https://localhost:8080/"
        },
        "id": "1RWiRfnzQTuY",
        "outputId": "cac9662d-0ba3-4c35-d561-482fc5686b60"
      },
      "execution_count": null,
      "outputs": [
        {
          "output_type": "execute_result",
          "data": {
            "text/plain": [
              "42"
            ]
          },
          "metadata": {},
          "execution_count": 10
        }
      ]
    },
    {
      "cell_type": "markdown",
      "source": [
        "When you type an expression at the prompt, the interpreter **evaluates** it, which means that it finds the value of the expression. In this example, n has the value 17 and n + 25 has the value 42.\n",
        "\n",
        "A **statement** is a unit of code that has an effect, like creating a variable or displaying a value."
      ],
      "metadata": {
        "id": "NicLOjtZQdMe"
      }
    },
    {
      "cell_type": "code",
      "source": [
        "n = 17"
      ],
      "metadata": {
        "id": "4SmLrhtbQnfO"
      },
      "execution_count": null,
      "outputs": []
    },
    {
      "cell_type": "code",
      "source": [
        "print(n)"
      ],
      "metadata": {
        "colab": {
          "base_uri": "https://localhost:8080/"
        },
        "id": "PaScgXFIQxqe",
        "outputId": "dfd615d7-788c-4141-df3b-5004bfd3dbc1"
      },
      "execution_count": null,
      "outputs": [
        {
          "output_type": "stream",
          "name": "stdout",
          "text": [
            "17\n"
          ]
        }
      ]
    },
    {
      "cell_type": "markdown",
      "source": [
        "The first line is an assignment statement that gives a value to n. The second line is a print statement that displays the value of n. When you type a statement, the interpreter executes it, which means that it does whatever the statement says. In general, statements don’t have values. "
      ],
      "metadata": {
        "id": "45na0x_OQ0uO"
      }
    },
    {
      "cell_type": "markdown",
      "source": [
        "## Boolean Expressions\n",
        "A **boolean** expression is an expression that is either true or false. The following examples use the operator **==** (called \"equals\"), which compares two operands and produces True if they are equal and False otherwise:"
      ],
      "metadata": {
        "id": "oBIhRsT6W_RP"
      }
    },
    {
      "cell_type": "code",
      "source": [
        "5 == 5"
      ],
      "metadata": {
        "colab": {
          "base_uri": "https://localhost:8080/"
        },
        "id": "5XfdPW5qYQ2G",
        "outputId": "4457c9a5-0ca5-409f-d955-dfc8a9fba59f"
      },
      "execution_count": null,
      "outputs": [
        {
          "output_type": "execute_result",
          "data": {
            "text/plain": [
              "True"
            ]
          },
          "metadata": {},
          "execution_count": 1
        }
      ]
    },
    {
      "cell_type": "code",
      "source": [
        "5 == 6"
      ],
      "metadata": {
        "colab": {
          "base_uri": "https://localhost:8080/"
        },
        "id": "59wyFy-mYb8J",
        "outputId": "7e29cd8a-d385-4cf7-b9ab-daabe5c72aaa"
      },
      "execution_count": null,
      "outputs": [
        {
          "output_type": "execute_result",
          "data": {
            "text/plain": [
              "False"
            ]
          },
          "metadata": {},
          "execution_count": 2
        }
      ]
    },
    {
      "cell_type": "markdown",
      "source": [
        "True and False are special values that belong to the type bool; they are not strings:"
      ],
      "metadata": {
        "id": "_71G_c3JYg0n"
      }
    },
    {
      "cell_type": "code",
      "source": [
        "type(True)"
      ],
      "metadata": {
        "colab": {
          "base_uri": "https://localhost:8080/"
        },
        "id": "4hl9t99SYiBd",
        "outputId": "1bc79eee-3fb2-4dbd-dba2-9aeeb3425908"
      },
      "execution_count": null,
      "outputs": [
        {
          "output_type": "execute_result",
          "data": {
            "text/plain": [
              "bool"
            ]
          },
          "metadata": {},
          "execution_count": 3
        }
      ]
    },
    {
      "cell_type": "code",
      "source": [
        "type(False)"
      ],
      "metadata": {
        "colab": {
          "base_uri": "https://localhost:8080/"
        },
        "id": "CRi6X4oaYiGE",
        "outputId": "1bbec52c-fffb-42da-e2d6-01659fdcae96"
      },
      "execution_count": null,
      "outputs": [
        {
          "output_type": "execute_result",
          "data": {
            "text/plain": [
              "bool"
            ]
          },
          "metadata": {},
          "execution_count": 4
        }
      ]
    },
    {
      "cell_type": "markdown",
      "source": [
        "The == operator is one of the **relational** operators; the others are:\n",
        "\n",
        "| x != y | x is not equal to y             |\n",
        "|--------|-----------------------------------|\n",
        "| x > y  | x is greater than y             |\n",
        "| x < y  | x is less than y                |\n",
        "| x >= y | x is greater than or equal to y |\n",
        "| x <= y | x is less than or equal to y    |"
      ],
      "metadata": {
        "id": "LlvXP-i_YtB6"
      }
    },
    {
      "cell_type": "markdown",
      "source": [
        "## Logical Operators\n",
        "There are three logical operators in Python: **and**, **or**, and **not** that can combine boolean expressions in various ways. They are very similar to the English words \"and\", \"or\", and \"not\" (with one key difference). \n",
        "\n",
        "* `not P` is true if P is false, and false if P is true\n",
        "* `P and Q` is true if both P and Q are true, and false otherwise.\n",
        "* `P or Q` is true if P is true, Q is true, or both are true.\n",
        "\n",
        "To see how they work, let's define a few boolean variables, and try them out."
      ],
      "metadata": {
        "id": "U7o4wwq0bH4T"
      }
    },
    {
      "cell_type": "code",
      "source": [
        "P = (7 != 7)  # This is true. \n",
        "Q = (7 < 10) # This is true.\n",
        "R = (7 >  20) # This is false"
      ],
      "metadata": {
        "id": "285-rIsw7dkB"
      },
      "execution_count": null,
      "outputs": []
    },
    {
      "cell_type": "code",
      "source": [
        "P"
      ],
      "metadata": {
        "colab": {
          "base_uri": "https://localhost:8080/"
        },
        "id": "2EvKGHcT9ips",
        "outputId": "948f9e1f-87dc-4733-8ba9-f8688b90cf49"
      },
      "execution_count": null,
      "outputs": [
        {
          "output_type": "execute_result",
          "data": {
            "text/plain": [
              "True"
            ]
          },
          "metadata": {},
          "execution_count": 8
        }
      ]
    },
    {
      "cell_type": "code",
      "source": [
        "not P"
      ],
      "metadata": {
        "colab": {
          "base_uri": "https://localhost:8080/"
        },
        "id": "DXZQgj2H9uS1",
        "outputId": "3c305ce3-94d9-4938-ee3e-79e134fe0be9"
      },
      "execution_count": null,
      "outputs": [
        {
          "output_type": "execute_result",
          "data": {
            "text/plain": [
              "False"
            ]
          },
          "metadata": {},
          "execution_count": 11
        }
      ]
    },
    {
      "cell_type": "code",
      "source": [
        "P and Q"
      ],
      "metadata": {
        "colab": {
          "base_uri": "https://localhost:8080/"
        },
        "id": "MivLbQ8Q9naQ",
        "outputId": "234924f3-1c95-49d2-a932-55334095c7c5"
      },
      "execution_count": null,
      "outputs": [
        {
          "output_type": "execute_result",
          "data": {
            "text/plain": [
              "True"
            ]
          },
          "metadata": {},
          "execution_count": 9
        }
      ]
    },
    {
      "cell_type": "code",
      "source": [
        "P and R"
      ],
      "metadata": {
        "colab": {
          "base_uri": "https://localhost:8080/"
        },
        "id": "too6QeW_9prg",
        "outputId": "245f7fcd-953b-418a-9239-596e3e5a28aa"
      },
      "execution_count": null,
      "outputs": [
        {
          "output_type": "execute_result",
          "data": {
            "text/plain": [
              "False"
            ]
          },
          "metadata": {},
          "execution_count": 10
        }
      ]
    },
    {
      "cell_type": "code",
      "source": [
        "P or R"
      ],
      "metadata": {
        "colab": {
          "base_uri": "https://localhost:8080/"
        },
        "id": "ezuElEBE9rfW",
        "outputId": "a12c94d5-6402-4661-9255-67907cfff3e0"
      },
      "execution_count": null,
      "outputs": [
        {
          "output_type": "execute_result",
          "data": {
            "text/plain": [
              "True"
            ]
          },
          "metadata": {},
          "execution_count": 13
        }
      ]
    },
    {
      "cell_type": "code",
      "source": [
        "P or (not R)"
      ],
      "metadata": {
        "colab": {
          "base_uri": "https://localhost:8080/"
        },
        "id": "NAZxpmGu9yEy",
        "outputId": "b2152da0-cb28-4cc2-ee4a-2b71558af6ce"
      },
      "execution_count": null,
      "outputs": [
        {
          "output_type": "execute_result",
          "data": {
            "text/plain": [
              "True"
            ]
          },
          "metadata": {},
          "execution_count": 14
        }
      ]
    },
    {
      "cell_type": "code",
      "source": [
        "(P and not Q) or (P or (not R)) "
      ],
      "metadata": {
        "colab": {
          "base_uri": "https://localhost:8080/"
        },
        "id": "-oASVYRh90Na",
        "outputId": "864f0939-2321-46e8-e9ec-37ba4d0b9f81"
      },
      "execution_count": null,
      "outputs": [
        {
          "output_type": "execute_result",
          "data": {
            "text/plain": [
              "True"
            ]
          },
          "metadata": {},
          "execution_count": 15
        }
      ]
    },
    {
      "cell_type": "markdown",
      "source": [
        "## Comments\n",
        "As programs get bigger and more complicated, they get more difficult to read. Formal languages are dense, and it is often difficult to look at a piece of code and figure out what it is doing, or why.\n",
        "\n",
        "For this reason, it is a good idea to add notes to your programs to explain in natural language what the program is doing. These notes are called **comments**, and they start with the # symbol:"
      ],
      "metadata": {
        "id": "0f7eoouiR1rx"
      }
    },
    {
      "cell_type": "code",
      "source": [
        "# percentage of the hour that has elapsed\n",
        "minute = 43\n",
        "percentage = (minute * 100) / 60\n"
      ],
      "metadata": {
        "id": "Nf75PZZjR7uB"
      },
      "execution_count": null,
      "outputs": []
    },
    {
      "cell_type": "markdown",
      "source": [
        "In this case, the comment appears on a line by itself. You can also put comments at the end of a line:"
      ],
      "metadata": {
        "id": "jqr8t1P8SGH5"
      }
    },
    {
      "cell_type": "code",
      "source": [
        "percentage = (minute * 100) / 60     # percentage of an hour"
      ],
      "metadata": {
        "id": "GkCsm27MSG-H"
      },
      "execution_count": null,
      "outputs": []
    },
    {
      "cell_type": "markdown",
      "source": [
        "Everything from the # to the end of the line is ignored—it has no effect on the execution of the program.\n",
        "\n",
        "Comments are most useful when they document non-obvious features of the code. It is reasonable to assume that the reader can figure out what the code does; it is more useful to explain why."
      ],
      "metadata": {
        "id": "2QPwi3MbSQOf"
      }
    },
    {
      "cell_type": "markdown",
      "source": [
        "This comment is redundant with the code and useless:"
      ],
      "metadata": {
        "id": "FRG8sSKaSUU_"
      }
    },
    {
      "cell_type": "code",
      "source": [
        "v = 5     # assign 5 to v"
      ],
      "metadata": {
        "id": "bkP9jHK4SVCv"
      },
      "execution_count": null,
      "outputs": []
    },
    {
      "cell_type": "markdown",
      "source": [
        "This comment contains useful information that is not in the code:"
      ],
      "metadata": {
        "id": "lYm5t5LYSYe-"
      }
    },
    {
      "cell_type": "code",
      "source": [
        "v = 5     # velocity in meters/second."
      ],
      "metadata": {
        "id": "9ms83xAASbB_"
      },
      "execution_count": null,
      "outputs": []
    },
    {
      "cell_type": "markdown",
      "source": [
        "Good variable names can reduce the need for comments, but long names can make complex expressions hard to read, so there is a tradeoff.\n",
        "\n",
        "\n",
        "**Exercise 8:\n",
        "In the following code cell, (1) create a variable and assign it a value and (2) include a comment describing what you have done.**"
      ],
      "metadata": {
        "id": "Uj929k0GSf0m"
      }
    },
    {
      "cell_type": "code",
      "source": [
        "W = 26 # I just assigned W to 25"
      ],
      "metadata": {
        "id": "osc8Ac7Qm2Pl"
      },
      "execution_count": 21,
      "outputs": []
    },
    {
      "cell_type": "markdown",
      "source": [
        "## The Basics of \"Debugging\"\n",
        "When programming computers (and really, when  working with any formal language), you should expect to make mistakes (lots and lots of mistakes...). This doesn't mean you are bad at it--it's just the nature of the beast. There are two basic \"types\" of errors that can occur:\n",
        "\n",
        "**Syntax errors** occur when you violate the \"rules\" of the language. So for example, you want to print \"Hello\" to the screen in Python, but instead of typing *print(\"Hello\")*, you type *prit(\"Hello\")*. Python will respond by telling you (in essence) that it has no idea what you are taking about. It will give you an \"error message\" of some type. These error messages take some practice to understand. In some cases, Python will call them \"syntax errors\", but it might also call them \"name errors\" (meaning you've used a name it doesn't recognize), or \"runtime errors\" (meaning it didn't \"know\" this was a problem until the program was already running).\n",
        "\n",
        "**Semantic errors** occur when you follow the \"rules\" of the language, but you basically \"tell it to do the wrong thing.\" For example, let's suppose you want to print \"Hello!\" to a user, followed by their first name. (So, \"Hello, Brendan!\"). However, you decide to do this by typing print(\"Hello, [first name]\"). Python will do this, even though it wasn't you \"meant\". (Semantic = related to meaning).\n"
      ],
      "metadata": {
        "id": "wVnsKPHBsZfg"
      }
    },
    {
      "cell_type": "markdown",
      "source": [
        "## Exercise 9\n",
        "Just as you did in Part 1, whenever you learn a new feature, you should try it out and make some errors on purpose to see what goes wrong.\n",
        "\n",
        "\n",
        "\n",
        "1. We’ve seen that $n = 42$ is legal. What about $42 = n$?\n",
        "\n",
        "2. How about $x = y = 1$?\n",
        "\n",
        "3. In some languages every statement ends with a semi-colon, ;. What happens if you put a semi-colon at the end of a Python statement?\n",
        "\n",
        "4. What if you put a period at the end of a statement?\n",
        "\n",
        "5. In math notation you can multiply x and y like this: $xy$. What happens if you try that in Python?\n",
        "\n",
        "Below, you'll find some empty code cells for you try this out:\n",
        "\n"
      ],
      "metadata": {
        "id": "WweU0HfZSjd8"
      }
    },
    {
      "cell_type": "code",
      "source": [
        "42 = n"
      ],
      "metadata": {
        "id": "7ByVy9PeSi4t",
        "outputId": "2cc0f829-209d-46d0-e0d4-c65f2cbe3cc5",
        "colab": {
          "base_uri": "https://localhost:8080/",
          "height": 130
        }
      },
      "execution_count": 22,
      "outputs": [
        {
          "output_type": "error",
          "ename": "SyntaxError",
          "evalue": "ignored",
          "traceback": [
            "\u001b[0;36m  File \u001b[0;32m\"<ipython-input-22-f0c37ed646fc>\"\u001b[0;36m, line \u001b[0;32m1\u001b[0m\n\u001b[0;31m    42 = n\u001b[0m\n\u001b[0m          ^\u001b[0m\n\u001b[0;31mSyntaxError\u001b[0m\u001b[0;31m:\u001b[0m can't assign to literal\n"
          ]
        }
      ]
    },
    {
      "cell_type": "code",
      "source": [
        "x=y=1\n",
        "print(x)\n",
        "print(y)"
      ],
      "metadata": {
        "id": "4tfCc22uTcQS",
        "outputId": "b071d108-ea86-4543-e7a0-7cebcafb5ac8",
        "colab": {
          "base_uri": "https://localhost:8080/"
        }
      },
      "execution_count": 26,
      "outputs": [
        {
          "output_type": "stream",
          "name": "stdout",
          "text": [
            "1\n",
            "1\n"
          ]
        }
      ]
    },
    {
      "cell_type": "code",
      "source": [
        "n = 42;\n",
        "print(n)"
      ],
      "metadata": {
        "id": "WYZVrvrsTcdi",
        "outputId": "07fe13bc-dbd0-413b-9237-1ec241ea8e66",
        "colab": {
          "base_uri": "https://localhost:8080/"
        }
      },
      "execution_count": 25,
      "outputs": [
        {
          "output_type": "stream",
          "name": "stdout",
          "text": [
            "42\n"
          ]
        }
      ]
    },
    {
      "cell_type": "code",
      "source": [
        "n = 42.\n",
        "print(n)"
      ],
      "metadata": {
        "id": "hZ7v6veoTi0S",
        "outputId": "bf6f2b24-4093-40fc-e5e5-8bf1606bca39",
        "colab": {
          "base_uri": "https://localhost:8080/"
        }
      },
      "execution_count": 31,
      "outputs": [
        {
          "output_type": "stream",
          "name": "stdout",
          "text": [
            "42.0\n"
          ]
        }
      ]
    },
    {
      "cell_type": "code",
      "source": [
        "x=y=1\n",
        "xy"
      ],
      "metadata": {
        "id": "Jog6YDu_Ti8Z",
        "outputId": "1bfbd04c-7e09-42f6-de51-97a13a42f80b",
        "colab": {
          "base_uri": "https://localhost:8080/",
          "height": 183
        }
      },
      "execution_count": 30,
      "outputs": [
        {
          "output_type": "error",
          "ename": "NameError",
          "evalue": "ignored",
          "traceback": [
            "\u001b[0;31m---------------------------------------------------------------------------\u001b[0m",
            "\u001b[0;31mNameError\u001b[0m                                 Traceback (most recent call last)",
            "\u001b[0;32m<ipython-input-30-6c4558793778>\u001b[0m in \u001b[0;36m<module>\u001b[0;34m\u001b[0m\n\u001b[1;32m      1\u001b[0m \u001b[0mx\u001b[0m\u001b[0;34m=\u001b[0m\u001b[0my\u001b[0m\u001b[0;34m=\u001b[0m\u001b[0;36m1\u001b[0m\u001b[0;34m\u001b[0m\u001b[0;34m\u001b[0m\u001b[0m\n\u001b[0;32m----> 2\u001b[0;31m \u001b[0mxy\u001b[0m\u001b[0;34m\u001b[0m\u001b[0;34m\u001b[0m\u001b[0m\n\u001b[0m",
            "\u001b[0;31mNameError\u001b[0m: name 'xy' is not defined"
          ]
        }
      ]
    },
    {
      "cell_type": "markdown",
      "source": [
        "### Exercise 10: Have Fun!\n",
        "You can feel free to experiment with Python in the cells below. I'll give you credit for whatever you'd like to do. See here for some ideas from Python.org:\n",
        "\n",
        "https://docs.python.org/3/tutorial/introduction.html \n"
      ],
      "metadata": {
        "id": "2PPLg9trmr_Z"
      }
    },
    {
      "cell_type": "code",
      "source": [],
      "metadata": {
        "id": "mwFbUH6VGKTI"
      },
      "execution_count": null,
      "outputs": []
    },
    {
      "cell_type": "code",
      "source": [],
      "metadata": {
        "id": "nQXCubALnjkH"
      },
      "execution_count": null,
      "outputs": []
    },
    {
      "cell_type": "code",
      "source": [],
      "metadata": {
        "id": "8iY3PvZanjsG"
      },
      "execution_count": null,
      "outputs": []
    },
    {
      "cell_type": "code",
      "source": [],
      "metadata": {
        "id": "rNzKFZUZnj1O"
      },
      "execution_count": null,
      "outputs": []
    },
    {
      "cell_type": "code",
      "source": [],
      "metadata": {
        "id": "uh1eLbg-npU_"
      },
      "execution_count": null,
      "outputs": []
    }
  ]
}
